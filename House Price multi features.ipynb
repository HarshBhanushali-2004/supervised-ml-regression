{
 "cells": [
  {
   "cell_type": "code",
   "execution_count": 2,
   "id": "55a6bd5d-6ffa-4eb0-82c2-d960410842a1",
   "metadata": {},
   "outputs": [],
   "source": [
    "import numpy as np\n",
    "import matplotlib.pyplot as plt"
   ]
  },
  {
   "cell_type": "code",
   "execution_count": 3,
   "id": "3c23acf1-5535-41ae-8c70-6888554ff7d7",
   "metadata": {},
   "outputs": [
    {
     "name": "stdout",
     "output_type": "stream",
     "text": [
      "[[2104    5    1   45]\n",
      " [1416    3    2   40]\n",
      " [ 852    2    1   35]]\n"
     ]
    }
   ],
   "source": [
    "x_train = np.array([[2104,5,1,45],[1416,3,2,40],[852,2,1,35]])\n",
    "y_train = np.array([460,232,178])\n",
    "print(x_train)"
   ]
  },
  {
   "cell_type": "code",
   "execution_count": 6,
   "id": "0c35237e-8a85-4624-a88c-07709b773f04",
   "metadata": {},
   "outputs": [],
   "source": [
    "def predict(x,w,b):\n",
    "    return (np.dot(x,w)+b)"
   ]
  },
  {
   "cell_type": "code",
   "execution_count": 8,
   "id": "9f0ecc15-29ab-48a0-aece-2596370a1c6e",
   "metadata": {},
   "outputs": [],
   "source": [
    "def compute_gradient(x,y,w,b):\n",
    "    m,n = x.shape\n",
    "    dj_dw = np.zeros(n)\n",
    "    dj_db = 0.0\n",
    "    for i in range(m):\n",
    "        err = (np.dot(x[i],w)+b)-y[i]\n",
    "        for j in range(n):\n",
    "            dj_dw[j] = dj_dw[j] + err * x[i,j]\n",
    "        dj_db = dj_db + err\n",
    "    dj_dw = dj_dw /m\n",
    "    dj_db = dj_db/m\n",
    "    return dj_dw, dj_db"
   ]
  },
  {
   "cell_type": "code",
   "execution_count": 10,
   "id": "2940807c-f228-4b66-98ca-892ade80ec44",
   "metadata": {},
   "outputs": [],
   "source": [
    "def gradient_decent(x,y,w_in, b_in, alpha, num_iter, compute_gradient):\n",
    "    w = w_in\n",
    "    b = b_in\n",
    "    for i in range(num_iter):\n",
    "        dj_dw, dj_db = compute_gradient(x,y,w,b)\n",
    "        w = w - alpha * dj_dw\n",
    "        b = b - alpha * dj_db\n",
    "    return w,b\n",
    "        "
   ]
  },
  {
   "cell_type": "code",
   "execution_count": 12,
   "id": "4d1c9b27-c108-4085-9eae-a65c55de94c5",
   "metadata": {},
   "outputs": [
    {
     "name": "stdout",
     "output_type": "stream",
     "text": [
      "Value of (w,b) is: (w: [ 0.20396569  0.00374919 -0.0112487  -0.0658614 ], b:-0.0022354075309325345)\n"
     ]
    }
   ],
   "source": [
    "w = np.zeros_like(x_train[0])\n",
    "b=0\n",
    "alpha = 5.0e-7\n",
    "iterations=1000\n",
    "w,b = gradient_decent(x_train, y_train, w,b,alpha, iterations, compute_gradient)\n",
    "print(f\"Value of (w,b) is: (w: {w}, b:{b})\")"
   ]
  },
  {
   "cell_type": "code",
   "execution_count": 14,
   "id": "bdfe295a-230a-49ba-a58f-d952351d2e86",
   "metadata": {},
   "outputs": [
    {
     "name": "stdout",
     "output_type": "stream",
     "text": [
      "[426.18530497 286.16747201 171.46763087]\n"
     ]
    }
   ],
   "source": [
    "predicted_price = predict(x_train,w,b)\n",
    "print(predicted_price)"
   ]
  },
  {
   "cell_type": "code",
   "execution_count": 18,
   "id": "beb96310-04fe-465f-93e9-bc9fe6a08818",
   "metadata": {},
   "outputs": [],
   "source": [
    "# plt.title(\"House Price Prediction multiple parametrs\")\n",
    "# plt.plot(x_train[0], predicted_price, c='b')\n",
    "# plt.scatter(x_train[0], predicted_price, marker='x', c='r',label='Predicated prices')\n",
    "# plt.scatter(x_train[0], y_train, c='b', marker='o', label=\"Givn Prices\")\n",
    "# plt.legend()\n",
    "# plt.show()"
   ]
  },
  {
   "cell_type": "code",
   "execution_count": null,
   "id": "dd442b67-e310-49b7-ba77-72a1741b042c",
   "metadata": {},
   "outputs": [],
   "source": []
  }
 ],
 "metadata": {
  "kernelspec": {
   "display_name": "Python [conda env:base] *",
   "language": "python",
   "name": "conda-base-py"
  },
  "language_info": {
   "codemirror_mode": {
    "name": "ipython",
    "version": 3
   },
   "file_extension": ".py",
   "mimetype": "text/x-python",
   "name": "python",
   "nbconvert_exporter": "python",
   "pygments_lexer": "ipython3",
   "version": "3.12.7"
  }
 },
 "nbformat": 4,
 "nbformat_minor": 5
}
